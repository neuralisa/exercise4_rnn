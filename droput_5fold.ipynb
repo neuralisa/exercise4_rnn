{
 "cells": [
    {
        "cell_type": "markdown",
        "metadata": {},
        "source": [
            "# 5-Fold Cross Validation Tutorial with PyTorch Example\n",
            "\n",
            "In this tutorial, we will demonstrate how to implement 5-Fold Cross Validation using PyTorch, including a comparison of models with and without Dropout."
        ]
    },
    {
        "cell_type": "code",
        "execution_count": null,
        "metadata": {},
        "outputs": [],
        "source": [
            "import torch\n",
            "import torch.nn as nn\n",
            "import torch.nn.functional as F\n",
            "from sklearn.model_selection import train_test_split, KFold\n",
            "from sklearn.datasets import load_iris\n",
            "import numpy as np\n",
            "\n",
            "# Load Iris dataset\n",
            "iris = load_iris()\n",
            "X = iris.data\n",
            "y = iris.target\n",
            "\n",
            "# Split dataset into training and test sets\n",
            "X_train, X_test, y_train, y_test = train_test_split(X, y, test_size=0.2, random_state=42)\n",
            "\n",
            "# Convert to tensors\n",
            "X_train = torch.from_numpy(X_train).float()\n",
            "X_test = torch.from_numpy(X_test).float()\n",
            "y_train = torch.from_numpy(y_train).long()\n",
            "y_test = torch.from_numpy(y_test).long()"
        ]
    },
    {
        "cell_type": "markdown",
        "metadata": {},
        "source": [
            "## Define the Neural Network Models"
        ]
    },
    {
        "cell_type": "code",
        "execution_count": null,
        "metadata": {},
        "outputs": [],
        "source": [
            "class Net(nn.Module):\n",
            "    def __init__(self, dropout=False):\n",
            "        super(Net, self).__init__()\n",
            "        self.fc1 = nn.Linear(4, 128)\n",
            "        self.dropout = nn.Dropout(0.5) if dropout else nn.Identity()\n",
            "        self.fc2 = nn.Linear(128, 3)\n",
            "\n",
            "    def forward(self, x):\n",
            "        x = F.relu(self.fc1(x))\n",
            "        x = self.dropout(x)\n",
            "        x = self.fc2(x)\n",
            "        return x\n",
            "\n",
            "# Initialize two models: one with dropout and one without\n",
            "model_with_dropout = Net(dropout=True)\n",
            "model_without_dropout = Net(dropout=False)"
        ]
    },
    {
        "cell_type": "markdown",
        "metadata": {},
        "source": [
            "## Training and Evaluation Functions"
        ]
    },
    {
        "cell_type": "code",
        "execution_count": null,
        "metadata": {},
        "outputs": [],
        "source": [
            "def train(model, optimizer, criterion, X_train, y_train):\n",
            "    model.train()\n",
            "    optimizer.zero_grad()\n",
            "    outputs = model(X_train)\n",
            "    loss = criterion(outputs, y_train)\n",
            "    loss.backward()\n",
            "    optimizer.step()\n",
            "    return loss.item()\n",
            "\n",
            "def evaluate(model, X_val, y_val):\n",
            "    model.eval()\n",
            "    with torch.no_grad():\n",
            "        outputs = model(X_val)\n",
            "        _, predicted = torch.max(outputs, 1)\n",
            "        correct = (predicted == y_val).sum().item()\n",
            "        accuracy = correct / X_val.size(0)\n",
            "    return accuracy"
        ]
    },
    {
        "cell_type": "markdown",
        "metadata": {},
        "source": [
            "## Perform 5-Fold Cross Validation"
        ]
    },
    {
        "cell_type": "code",
        "execution_count": null,
        "metadata": {},
        "outputs": [],
        "source": [
            "# Set up KFold with 5 splits\n",
            "kfold = KFold(n_splits=5, shuffle=True, random_state=42)\n",
            "\n",
            "# Train and evaluate the models\n",
            "def perform_cross_validation(model, X_train, y_train):\n",
            "    results = []\n",
            "    for fold, (train_idx, val_idx) in enumerate(kfold.split(X_train)):\n",
            "        print(f'Starting fold {fold+1}')\n",
            "        # Create data subsets for the fold\n",
            "        X_train_fold = X_train[train_idx]\n",
            "        y_train_fold = y_train[train_idx]\n",
            "        X_val_fold = X_train[val_idx]\n",
            "        y_val_fold = y_train[val_idx]\n",
            "\n",
            "        # Initialize optimizer and criterion\n",
            "        optimizer = torch.optim.Adam(model.parameters(), lr=0.001)\n",
            "        criterion = nn.CrossEntropyLoss()\n",
            "\n",
            "        # Training and evaluation for one fold\n",
            "        for epoch in range(50):\n",
            "            loss = train(model, optimizer, criterion, X_train_fold, y_train_fold)\n",
            "            if (epoch+1) % 10 == 0:\n",
            "                accuracy = evaluate(model, X_val_fold, y_val_fold)\n",
            "                print(f'Epoch {epoch+1}, Loss: {loss}, Accuracy: {accuracy}')\n",
            "\n",
            "        results.append({'fold': fold+1, 'final_loss': loss, 'accuracy': accuracy})\n",
            "    return results\n",
            "\n",
            "results_with_dropout = perform_cross_validation(model_with_dropout, X_train, y_train)\n",
            "results_without_dropout = perform_cross_validation(model_without_dropout, X_train, y_train)"
        ]
    },
    {
        "cell_type": "markdown",
        "metadata": {},
        "source": [
            "## Review Results"
        ]
    },
    {
        "cell_type": "code",
        "execution_count": null,
        "metadata": {},
        "outputs": [],
        "source": [
            "print('Results with Dropout:')\n",
            "for result in results_with_dropout:\n",
            "    print(f\"Fold {result['fold']}: Loss: {result['final_loss']}, Accuracy: {result['accuracy']}\")\n",
            "\n",
            "print('\\nResults without Dropout:')\n",
            "for result in results_without_dropout:\n",
            "    print(f\"Fold {result['fold']}: Loss: {result['final_loss']}, Accuracy: {result['accuracy']}\")\n"
        ]
    }
],
 "metadata": {
  "kernelspec": {
   "display_name": "Python 3",
   "language": "python",
   "name": "python3"
  },
  "language_info": {
   "codemirror_mode": {
    "name": "ipython",
    "version": 3
   },
   "file_extension": ".py",
   "mimetype": "text/x-python",
   "name": "python",
   "nbconvert_exporter": "python",
   "pygments_lexer": "ipython3",
   "version": "3.8.10"
  }
 },
 "nbformat": 4,
 "nbformat_minor": 4
}
